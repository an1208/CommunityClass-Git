{
  "nbformat": 4,
  "nbformat_minor": 0,
  "metadata": {
    "colab": {
      "provenance": [],
      "toc_visible": true,
      "authorship_tag": "ABX9TyOsaSr1PZutgbwQchL1rjwe",
      "include_colab_link": true
    },
    "kernelspec": {
      "name": "python3",
      "display_name": "Python 3"
    },
    "language_info": {
      "name": "python"
    }
  },
  "cells": [
    {
      "cell_type": "markdown",
      "metadata": {
        "id": "view-in-github",
        "colab_type": "text"
      },
      "source": [
        "<a href=\"https://colab.research.google.com/github/an1208/CommunityClass-Git/blob/main/ML_SL_Model_Represent.ipynb\" target=\"_parent\"><img src=\"https://colab.research.google.com/assets/colab-badge.svg\" alt=\"Open In Colab\"/></a>"
      ]
    },
    {
      "cell_type": "code",
      "execution_count": 21,
      "metadata": {
        "id": "yk9fHHvdJU5k"
      },
      "outputs": [],
      "source": [
        "import numpy as np\n",
        "import matplotlib.pyplot as plt\n",
        "plt.style.use('/deeplearning.mplstyle')"
      ]
    },
    {
      "cell_type": "code",
      "source": [
        "#x_train is the input \"feature\" variable\n",
        "#y_train is the output \"target\" variable\n",
        "x_train =  np.array([1.0,2.0])\n",
        "y_train = np.array([300.0,500.0])\n",
        "print(f\"x_train = {x_train}\")\n",
        "print(f\"y_train = {y_train}\")"
      ],
      "metadata": {
        "colab": {
          "base_uri": "https://localhost:8080/"
        },
        "id": "GO8CQnrjJk5o",
        "outputId": "b5106335-e77c-4c66-85ac-4f30bcbcf6bb"
      },
      "execution_count": 7,
      "outputs": [
        {
          "output_type": "stream",
          "name": "stdout",
          "text": [
            "x_train = [1. 2.]\n",
            "y_train = [300. 500.]\n"
          ]
        }
      ]
    },
    {
      "cell_type": "code",
      "source": [
        "print(f\"x_train.shape = {x_train.shape}\")\n",
        "m = x_train.shape[0]\n",
        "print(f\"Number of training examples : {m}\")"
      ],
      "metadata": {
        "colab": {
          "base_uri": "https://localhost:8080/"
        },
        "id": "vx5mV0BrPSyC",
        "outputId": "a3956b74-c84e-4ea4-aa5d-71ab38882b2d"
      },
      "execution_count": 8,
      "outputs": [
        {
          "output_type": "stream",
          "name": "stdout",
          "text": [
            "x_train.shape = (2,)\n",
            "Number of training examples : 2\n"
          ]
        }
      ]
    },
    {
      "cell_type": "code",
      "source": [
        "m = len(x_train)\n",
        "print(m)"
      ],
      "metadata": {
        "colab": {
          "base_uri": "https://localhost:8080/"
        },
        "id": "yKTuQ1o0Pso2",
        "outputId": "d978ff6f-cd59-4918-a953-560476ed2dbe"
      },
      "execution_count": 16,
      "outputs": [
        {
          "output_type": "stream",
          "name": "stdout",
          "text": [
            "2\n"
          ]
        }
      ]
    },
    {
      "cell_type": "code",
      "source": [
        "i = 0\n",
        "x_i = x_train[i]\n",
        "y_i = y_train[i]\n",
        "print(f\"(x^({i}),y^({i})) = ({x_i},{y_i})\")"
      ],
      "metadata": {
        "colab": {
          "base_uri": "https://localhost:8080/"
        },
        "id": "aqFQATrFPy2o",
        "outputId": "73ea4800-ff08-472b-f82d-5a3a16e22b03"
      },
      "execution_count": 17,
      "outputs": [
        {
          "output_type": "stream",
          "name": "stdout",
          "text": [
            "(x^(0),y^(0)) = (1.0,300.0)\n"
          ]
        }
      ]
    },
    {
      "cell_type": "code",
      "source": [
        "plt.scatter(x_train,y_train, marker = 'x', c = 'r')\n",
        "plt.title(\"Housing prices\")\n",
        "plt.ylabel(\"Price(in 1000s of dollars)\")\n",
        "\n",
        "plt.xlabel(\"Size (1000 sqft.)\")\n",
        "plt.show()"
      ],
      "metadata": {
        "colab": {
          "base_uri": "https://localhost:8080/",
          "height": 460
        },
        "id": "fwqPBuUHQe0x",
        "outputId": "63589b87-8034-4f76-c01a-e57fd0f70c5d"
      },
      "execution_count": 18,
      "outputs": [
        {
          "output_type": "display_data",
          "data": {
            "text/plain": [
              "<Figure size 640x480 with 1 Axes>"
            ],
            "image/png": "[encoded data removed]"
          },
          "metadata": {}
        }
      ]
    },
    {
      "cell_type": "code",
      "source": [
        "w = 200\n",
        "b = 100\n",
        "print(f\"w: {w}\")\n",
        "print(f\"b: {b}\")"
      ],
      "metadata": {
        "colab": {
          "base_uri": "https://localhost:8080/"
        },
        "id": "AqvhZ-NHRNjW",
        "outputId": "13e01f77-77d7-42f4-9a5e-4a7bb2acd09d"
      },
      "execution_count": 25,
      "outputs": [
        {
          "output_type": "stream",
          "name": "stdout",
          "text": [
            "w: 200\n",
            "b: 100\n"
          ]
        }
      ]
    },
    {
      "cell_type": "code",
      "source": [
        "def compute_model(x, w, b):\n",
        "    \"\"\"\n",
        "    Computes the prediction of a linear model\n",
        "\n",
        "    Args:\n",
        "      x (ndarray (m,)): Data, m examples\n",
        "      w, b (scalar): model parameters\n",
        "\n",
        "    Returns:\n",
        "      y (ndarray (m,)): target values\n",
        "    \"\"\"\n",
        "    m = x.shape[0]\n",
        "    f_wb = np.zeros(m)\n",
        "    for i in range(m):\n",
        "        f_wb[i] = w * x[i] + b\n",
        "    return f_wb\n"
      ],
      "metadata": {
        "id": "nmd28mDWJ7NU"
      },
      "execution_count": 26,
      "outputs": []
    },
    {
      "cell_type": "code",
      "source": [
        "\n",
        "tmp_f_wb = compute_model(x_train,w,b)\n",
        "\n",
        "plt.plot(x_train, tmp_f_wb, c = 'b' ,label = \"Our prediction \")\n",
        "\n",
        "plt.scatter(x_train, y_train, marker = 'x', c= 'r', label = 'Actual Values')\n",
        "\n",
        "plt.title(\"Housing Prices\")\n",
        "\n",
        "plt.ylabel('Price (in 1000s of dollars)')\n",
        "\n",
        "plt.xlabel(\"Size (in 1000 sqft.)\")\n",
        "\n",
        "plt.legend()\n",
        "\n",
        "plt.show()\n"
      ],
      "metadata": {
        "colab": {
          "base_uri": "https://localhost:8080/",
          "height": 460
        },
        "id": "v0_wGMOYKY4C",
        "outputId": "dfa39f74-ed44-40eb-da5d-9ec8b46989a0"
      },
      "execution_count": 27,
      "outputs": [
        {
          "output_type": "display_data",
          "data": {
            "text/plain": [
              "<Figure size 640x480 with 1 Axes>"
            ],
            "image/png": "[encoded data removed]"
          },
          "metadata": {}
        }
      ]
    },
    {
      "cell_type": "code",
      "source": [
        "w = 200\n",
        "b = 100\n",
        "x_i = 1.2\n",
        "cost_1200sqft = w * x_i + b\n",
        "\n",
        "print(f\"${cost_1200sqft:.0f} thousand dollars \")"
      ],
      "metadata": {
        "colab": {
          "base_uri": "https://localhost:8080/"
        },
        "id": "Aj4LV7kPMVTP",
        "outputId": "5d66bd75-35c1-4179-a81f-3f14b8dd0152"
      },
      "execution_count": 28,
      "outputs": [
        {
          "output_type": "stream",
          "name": "stdout",
          "text": [
            "$340 thousand dollars \n"
          ]
        }
      ]
    },
    {
      "cell_type": "code",
      "source": [],
      "metadata": {
        "id": "zhOMvbw1M6gS"
      },
      "execution_count": null,
      "outputs": []
    }
  ]
}